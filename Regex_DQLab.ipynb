{
  "nbformat": 4,
  "nbformat_minor": 0,
  "metadata": {
    "colab": {
      "provenance": []
    },
    "kernelspec": {
      "name": "python3",
      "display_name": "Python 3"
    },
    "language_info": {
      "name": "python"
    }
  },
  "cells": [
    {
      "cell_type": "code",
      "execution_count": 4,
      "metadata": {
        "id": "nVCtIJ99m6Hm",
        "colab": {
          "base_uri": "https://localhost:8080/",
          "height": 237
        },
        "outputId": "65c5471e-5445-4042-c3e7-5e7f5b36b02e"
      },
      "outputs": [
        {
          "output_type": "execute_result",
          "data": {
            "text/plain": [
              "   no_pencatatan tanggal_catat      kota jumlah_member staf_pencatat\n",
              "0              1    01-05-2020   Jakarta           311         Andra\n",
              "1              2    30-06-2020   Jakarta           1I2         Andra\n",
              "2              3    05/02/2020   Bandung           5S0        Antara\n",
              "3              4    06/28/2020   Bandung           670        Antara\n",
              "4              5    05/10/2020  Semarang           81O         Senja\n",
              "5              6    06/28/2020  Semarang           1O2        Sendja"
            ],
            "text/html": [
              "\n",
              "  <div id=\"df-1e539581-b430-4fab-bbfa-da57d738ae7e\" class=\"colab-df-container\">\n",
              "    <div>\n",
              "<style scoped>\n",
              "    .dataframe tbody tr th:only-of-type {\n",
              "        vertical-align: middle;\n",
              "    }\n",
              "\n",
              "    .dataframe tbody tr th {\n",
              "        vertical-align: top;\n",
              "    }\n",
              "\n",
              "    .dataframe thead th {\n",
              "        text-align: right;\n",
              "    }\n",
              "</style>\n",
              "<table border=\"1\" class=\"dataframe\">\n",
              "  <thead>\n",
              "    <tr style=\"text-align: right;\">\n",
              "      <th></th>\n",
              "      <th>no_pencatatan</th>\n",
              "      <th>tanggal_catat</th>\n",
              "      <th>kota</th>\n",
              "      <th>jumlah_member</th>\n",
              "      <th>staf_pencatat</th>\n",
              "    </tr>\n",
              "  </thead>\n",
              "  <tbody>\n",
              "    <tr>\n",
              "      <th>0</th>\n",
              "      <td>1</td>\n",
              "      <td>01-05-2020</td>\n",
              "      <td>Jakarta</td>\n",
              "      <td>311</td>\n",
              "      <td>Andra</td>\n",
              "    </tr>\n",
              "    <tr>\n",
              "      <th>1</th>\n",
              "      <td>2</td>\n",
              "      <td>30-06-2020</td>\n",
              "      <td>Jakarta</td>\n",
              "      <td>1I2</td>\n",
              "      <td>Andra</td>\n",
              "    </tr>\n",
              "    <tr>\n",
              "      <th>2</th>\n",
              "      <td>3</td>\n",
              "      <td>05/02/2020</td>\n",
              "      <td>Bandung</td>\n",
              "      <td>5S0</td>\n",
              "      <td>Antara</td>\n",
              "    </tr>\n",
              "    <tr>\n",
              "      <th>3</th>\n",
              "      <td>4</td>\n",
              "      <td>06/28/2020</td>\n",
              "      <td>Bandung</td>\n",
              "      <td>670</td>\n",
              "      <td>Antara</td>\n",
              "    </tr>\n",
              "    <tr>\n",
              "      <th>4</th>\n",
              "      <td>5</td>\n",
              "      <td>05/10/2020</td>\n",
              "      <td>Semarang</td>\n",
              "      <td>81O</td>\n",
              "      <td>Senja</td>\n",
              "    </tr>\n",
              "    <tr>\n",
              "      <th>5</th>\n",
              "      <td>6</td>\n",
              "      <td>06/28/2020</td>\n",
              "      <td>Semarang</td>\n",
              "      <td>1O2</td>\n",
              "      <td>Sendja</td>\n",
              "    </tr>\n",
              "  </tbody>\n",
              "</table>\n",
              "</div>\n",
              "    <div class=\"colab-df-buttons\">\n",
              "\n",
              "  <div class=\"colab-df-container\">\n",
              "    <button class=\"colab-df-convert\" onclick=\"convertToInteractive('df-1e539581-b430-4fab-bbfa-da57d738ae7e')\"\n",
              "            title=\"Convert this dataframe to an interactive table.\"\n",
              "            style=\"display:none;\">\n",
              "\n",
              "  <svg xmlns=\"http://www.w3.org/2000/svg\" height=\"24px\" viewBox=\"0 -960 960 960\">\n",
              "    <path d=\"M120-120v-720h720v720H120Zm60-500h600v-160H180v160Zm220 220h160v-160H400v160Zm0 220h160v-160H400v160ZM180-400h160v-160H180v160Zm440 0h160v-160H620v160ZM180-180h160v-160H180v160Zm440 0h160v-160H620v160Z\"/>\n",
              "  </svg>\n",
              "    </button>\n",
              "\n",
              "  <style>\n",
              "    .colab-df-container {\n",
              "      display:flex;\n",
              "      gap: 12px;\n",
              "    }\n",
              "\n",
              "    .colab-df-convert {\n",
              "      background-color: #E8F0FE;\n",
              "      border: none;\n",
              "      border-radius: 50%;\n",
              "      cursor: pointer;\n",
              "      display: none;\n",
              "      fill: #1967D2;\n",
              "      height: 32px;\n",
              "      padding: 0 0 0 0;\n",
              "      width: 32px;\n",
              "    }\n",
              "\n",
              "    .colab-df-convert:hover {\n",
              "      background-color: #E2EBFA;\n",
              "      box-shadow: 0px 1px 2px rgba(60, 64, 67, 0.3), 0px 1px 3px 1px rgba(60, 64, 67, 0.15);\n",
              "      fill: #174EA6;\n",
              "    }\n",
              "\n",
              "    .colab-df-buttons div {\n",
              "      margin-bottom: 4px;\n",
              "    }\n",
              "\n",
              "    [theme=dark] .colab-df-convert {\n",
              "      background-color: #3B4455;\n",
              "      fill: #D2E3FC;\n",
              "    }\n",
              "\n",
              "    [theme=dark] .colab-df-convert:hover {\n",
              "      background-color: #434B5C;\n",
              "      box-shadow: 0px 1px 3px 1px rgba(0, 0, 0, 0.15);\n",
              "      filter: drop-shadow(0px 1px 2px rgba(0, 0, 0, 0.3));\n",
              "      fill: #FFFFFF;\n",
              "    }\n",
              "  </style>\n",
              "\n",
              "    <script>\n",
              "      const buttonEl =\n",
              "        document.querySelector('#df-1e539581-b430-4fab-bbfa-da57d738ae7e button.colab-df-convert');\n",
              "      buttonEl.style.display =\n",
              "        google.colab.kernel.accessAllowed ? 'block' : 'none';\n",
              "\n",
              "      async function convertToInteractive(key) {\n",
              "        const element = document.querySelector('#df-1e539581-b430-4fab-bbfa-da57d738ae7e');\n",
              "        const dataTable =\n",
              "          await google.colab.kernel.invokeFunction('convertToInteractive',\n",
              "                                                    [key], {});\n",
              "        if (!dataTable) return;\n",
              "\n",
              "        const docLinkHtml = 'Like what you see? Visit the ' +\n",
              "          '<a target=\"_blank\" href=https://colab.research.google.com/notebooks/data_table.ipynb>data table notebook</a>'\n",
              "          + ' to learn more about interactive tables.';\n",
              "        element.innerHTML = '';\n",
              "        dataTable['output_type'] = 'display_data';\n",
              "        await google.colab.output.renderOutput(dataTable, element);\n",
              "        const docLink = document.createElement('div');\n",
              "        docLink.innerHTML = docLinkHtml;\n",
              "        element.appendChild(docLink);\n",
              "      }\n",
              "    </script>\n",
              "  </div>\n",
              "\n",
              "\n",
              "<div id=\"df-587664a6-4df9-4b1c-8ef8-61b544586fbf\">\n",
              "  <button class=\"colab-df-quickchart\" onclick=\"quickchart('df-587664a6-4df9-4b1c-8ef8-61b544586fbf')\"\n",
              "            title=\"Suggest charts\"\n",
              "            style=\"display:none;\">\n",
              "\n",
              "<svg xmlns=\"http://www.w3.org/2000/svg\" height=\"24px\"viewBox=\"0 0 24 24\"\n",
              "     width=\"24px\">\n",
              "    <g>\n",
              "        <path d=\"M19 3H5c-1.1 0-2 .9-2 2v14c0 1.1.9 2 2 2h14c1.1 0 2-.9 2-2V5c0-1.1-.9-2-2-2zM9 17H7v-7h2v7zm4 0h-2V7h2v10zm4 0h-2v-4h2v4z\"/>\n",
              "    </g>\n",
              "</svg>\n",
              "  </button>\n",
              "\n",
              "<style>\n",
              "  .colab-df-quickchart {\n",
              "      --bg-color: #E8F0FE;\n",
              "      --fill-color: #1967D2;\n",
              "      --hover-bg-color: #E2EBFA;\n",
              "      --hover-fill-color: #174EA6;\n",
              "      --disabled-fill-color: #AAA;\n",
              "      --disabled-bg-color: #DDD;\n",
              "  }\n",
              "\n",
              "  [theme=dark] .colab-df-quickchart {\n",
              "      --bg-color: #3B4455;\n",
              "      --fill-color: #D2E3FC;\n",
              "      --hover-bg-color: #434B5C;\n",
              "      --hover-fill-color: #FFFFFF;\n",
              "      --disabled-bg-color: #3B4455;\n",
              "      --disabled-fill-color: #666;\n",
              "  }\n",
              "\n",
              "  .colab-df-quickchart {\n",
              "    background-color: var(--bg-color);\n",
              "    border: none;\n",
              "    border-radius: 50%;\n",
              "    cursor: pointer;\n",
              "    display: none;\n",
              "    fill: var(--fill-color);\n",
              "    height: 32px;\n",
              "    padding: 0;\n",
              "    width: 32px;\n",
              "  }\n",
              "\n",
              "  .colab-df-quickchart:hover {\n",
              "    background-color: var(--hover-bg-color);\n",
              "    box-shadow: 0 1px 2px rgba(60, 64, 67, 0.3), 0 1px 3px 1px rgba(60, 64, 67, 0.15);\n",
              "    fill: var(--button-hover-fill-color);\n",
              "  }\n",
              "\n",
              "  .colab-df-quickchart-complete:disabled,\n",
              "  .colab-df-quickchart-complete:disabled:hover {\n",
              "    background-color: var(--disabled-bg-color);\n",
              "    fill: var(--disabled-fill-color);\n",
              "    box-shadow: none;\n",
              "  }\n",
              "\n",
              "  .colab-df-spinner {\n",
              "    border: 2px solid var(--fill-color);\n",
              "    border-color: transparent;\n",
              "    border-bottom-color: var(--fill-color);\n",
              "    animation:\n",
              "      spin 1s steps(1) infinite;\n",
              "  }\n",
              "\n",
              "  @keyframes spin {\n",
              "    0% {\n",
              "      border-color: transparent;\n",
              "      border-bottom-color: var(--fill-color);\n",
              "      border-left-color: var(--fill-color);\n",
              "    }\n",
              "    20% {\n",
              "      border-color: transparent;\n",
              "      border-left-color: var(--fill-color);\n",
              "      border-top-color: var(--fill-color);\n",
              "    }\n",
              "    30% {\n",
              "      border-color: transparent;\n",
              "      border-left-color: var(--fill-color);\n",
              "      border-top-color: var(--fill-color);\n",
              "      border-right-color: var(--fill-color);\n",
              "    }\n",
              "    40% {\n",
              "      border-color: transparent;\n",
              "      border-right-color: var(--fill-color);\n",
              "      border-top-color: var(--fill-color);\n",
              "    }\n",
              "    60% {\n",
              "      border-color: transparent;\n",
              "      border-right-color: var(--fill-color);\n",
              "    }\n",
              "    80% {\n",
              "      border-color: transparent;\n",
              "      border-right-color: var(--fill-color);\n",
              "      border-bottom-color: var(--fill-color);\n",
              "    }\n",
              "    90% {\n",
              "      border-color: transparent;\n",
              "      border-bottom-color: var(--fill-color);\n",
              "    }\n",
              "  }\n",
              "</style>\n",
              "\n",
              "  <script>\n",
              "    async function quickchart(key) {\n",
              "      const quickchartButtonEl =\n",
              "        document.querySelector('#' + key + ' button');\n",
              "      quickchartButtonEl.disabled = true;  // To prevent multiple clicks.\n",
              "      quickchartButtonEl.classList.add('colab-df-spinner');\n",
              "      try {\n",
              "        const charts = await google.colab.kernel.invokeFunction(\n",
              "            'suggestCharts', [key], {});\n",
              "      } catch (error) {\n",
              "        console.error('Error during call to suggestCharts:', error);\n",
              "      }\n",
              "      quickchartButtonEl.classList.remove('colab-df-spinner');\n",
              "      quickchartButtonEl.classList.add('colab-df-quickchart-complete');\n",
              "    }\n",
              "    (() => {\n",
              "      let quickchartButtonEl =\n",
              "        document.querySelector('#df-587664a6-4df9-4b1c-8ef8-61b544586fbf button');\n",
              "      quickchartButtonEl.style.display =\n",
              "        google.colab.kernel.accessAllowed ? 'block' : 'none';\n",
              "    })();\n",
              "  </script>\n",
              "</div>\n",
              "    </div>\n",
              "  </div>\n"
            ],
            "application/vnd.google.colaboratory.intrinsic+json": {
              "type": "dataframe",
              "variable_name": "dqlabregex",
              "summary": "{\n  \"name\": \"dqlabregex\",\n  \"rows\": 6,\n  \"fields\": [\n    {\n      \"column\": \"no_pencatatan\",\n      \"properties\": {\n        \"dtype\": \"number\",\n        \"std\": 1,\n        \"min\": 1,\n        \"max\": 6,\n        \"samples\": [\n          1,\n          2,\n          6\n        ],\n        \"num_unique_values\": 6,\n        \"semantic_type\": \"\",\n        \"description\": \"\"\n      }\n    },\n    {\n      \"column\": \"tanggal_catat\",\n      \"properties\": {\n        \"dtype\": \"object\",\n        \"min\": \"01-05-2020\",\n        \"max\": \"30-06-2020\",\n        \"samples\": [\n          \"30-06-2020\",\n          \"05/10/2020\",\n          \"05/02/2020\"\n        ],\n        \"num_unique_values\": 5,\n        \"semantic_type\": \"\",\n        \"description\": \"\"\n      }\n    },\n    {\n      \"column\": \"kota\",\n      \"properties\": {\n        \"dtype\": \"string\",\n        \"samples\": [\n          \"Jakarta\",\n          \"Bandung\",\n          \"Semarang\"\n        ],\n        \"num_unique_values\": 3,\n        \"semantic_type\": \"\",\n        \"description\": \"\"\n      }\n    },\n    {\n      \"column\": \"jumlah_member\",\n      \"properties\": {\n        \"dtype\": \"string\",\n        \"samples\": [\n          \"311\",\n          \"1I2\",\n          \"1O2\"\n        ],\n        \"num_unique_values\": 6,\n        \"semantic_type\": \"\",\n        \"description\": \"\"\n      }\n    },\n    {\n      \"column\": \"staf_pencatat\",\n      \"properties\": {\n        \"dtype\": \"string\",\n        \"samples\": [\n          \"Antara\",\n          \"Sendja\",\n          \"Andra\"\n        ],\n        \"num_unique_values\": 4,\n        \"semantic_type\": \"\",\n        \"description\": \"\"\n      }\n    }\n  ]\n}"
            }
          },
          "metadata": {},
          "execution_count": 4
        }
      ],
      "source": [
        "import pandas as pd\n",
        "\n",
        "dqlabregex = pd.read_csv(\"https://storage.googleapis.com/dqlab-dataset/dqlabregex.tsv\", sep = '\\t')\n",
        "\n",
        "dqlabregex"
      ]
    },
    {
      "cell_type": "markdown",
      "source": [
        "### Notasi Regular Expression (Regex)\n",
        "\n",
        "|Notasi|Nama Notasi  |Kegunaan|\n",
        "|:----:|-------------|--------|\n",
        "|.     |Wildcard     |(pa.i) = padi,paTi, pari, dsb.|\n",
        "|?     |Optionality  |(Bid?jak) = Bidjak/Bijak/Bdjak\n",
        "|+     |Repeatability (Wajib)|(go+L) = goL, goooL, dsb.\n",
        "|*     |Repeatability (Optional)|(go*L) = goL, goooL, gLadi, oLshop, dsb.\n",
        "|[ ]   |Choice       |(mak[Ai]n) = makAn, makin\n",
        "|-     |Range        |([b-d]uka) = buka, cuka, duka\n",
        "|^[...]|Complement   |(^[aiueo]) = konsonan\n",
        "|^     |Prefix       |(^ayam) = ayam goreng, ayam bakar, dsb.\n",
        "|\\$     |Sufix        |(ayam\\$) = mie ayam, soto ayam, dsb.\n",
        "|{ }   |Quantifier   |(he.{2}o) = hello, henyo, heL1o, dsb."
      ],
      "metadata": {
        "id": "8Lp9yI_-nEk8"
      }
    },
    {
      "cell_type": "markdown",
      "source": [
        "### Sets dan Group\n",
        "\n",
        "|Notasi  |Himpunan|\n",
        "|:------:|--------|\n",
        "|[abc]   |Huruf a,b,c saja\n",
        "|[a-z]   |Huruf kecil\n",
        "|[A-Z]   |Huruf besar\n",
        "|[a-zA-Z]|Huruf kecil dan besar\n",
        "|[^a-z]  |Selain huruf kecil\n",
        "|[0-9]   |Angka"
      ],
      "metadata": {
        "id": "t-jN2AjdRH0-"
      }
    },
    {
      "cell_type": "markdown",
      "source": [
        "## Syntax Contains"
      ],
      "metadata": {
        "id": "gye7jQG4n1qP"
      }
    },
    {
      "cell_type": "markdown",
      "source": [
        "### Tantangan Pertama Sunyi"
      ],
      "metadata": {
        "id": "fyJ-ESjSpbYT"
      }
    },
    {
      "cell_type": "code",
      "source": [
        "#Import library yang dibutuhkan\n",
        "import pandas as pd\n",
        "\n",
        "#Baca file dqlabregex.tsv\n",
        "dqlabregex = pd.read_csv(\"https://storage.googleapis.com/dqlab-dataset/dqlabregex.tsv\", sep = '\\t')\n",
        "\n",
        "#Buat kolom baru kota_awalan_J_S\n",
        "dqlabregex['kota_awalan_J_S'] = dqlabregex['kota'].str.contains('^(j|s)', case = False)\n",
        "\n",
        "#Tampilkan hasilnya\n",
        "print(dqlabregex[['kota','kota_awalan_J_S']])"
      ],
      "metadata": {
        "id": "QKYn8sotq-v8",
        "colab": {
          "base_uri": "https://localhost:8080/"
        },
        "outputId": "49821136-4fd1-4c78-c716-5127d7016546"
      },
      "execution_count": 5,
      "outputs": [
        {
          "output_type": "stream",
          "name": "stdout",
          "text": [
            "       kota  kota_awalan_J_S\n",
            "0   Jakarta             True\n",
            "1   Jakarta             True\n",
            "2   Bandung            False\n",
            "3   Bandung            False\n",
            "4  Semarang             True\n",
            "5  Semarang             True\n"
          ]
        },
        {
          "output_type": "stream",
          "name": "stderr",
          "text": [
            "<ipython-input-5-1cda8dcc5e4b>:8: UserWarning: This pattern is interpreted as a regular expression, and has match groups. To actually get the groups, use str.extract.\n",
            "  dqlabregex['kota_awalan_J_S'] = dqlabregex['kota'].str.contains('^(j|s)', case = False)\n"
          ]
        }
      ]
    },
    {
      "cell_type": "markdown",
      "source": [
        "### Praktikum 1"
      ],
      "metadata": {
        "id": "pu5QpV0ZpfdN"
      }
    },
    {
      "cell_type": "code",
      "source": [
        "#Import library yang dibutuhkan\n",
        "import pandas as pd\n",
        "\n",
        "#Baca file dqlabregex.tsv\n",
        "dqlabregex = pd.read_csv(\"https://storage.googleapis.com/dqlab-dataset/dqlabregex.tsv\", sep = '\\t')\n",
        "\n",
        "#Buat kolom baru pencatat_senja\n",
        "dqlabregex['pencatat_senja'] = dqlabregex['staf_pencatat'].str.contains('Sen.?ja')\n",
        "\n",
        "#Tampilkan hasilnya\n",
        "print(dqlabregex[['staf_pencatat','pencatat_senja']])"
      ],
      "metadata": {
        "colab": {
          "base_uri": "https://localhost:8080/"
        },
        "id": "dpM1qu3no9vN",
        "outputId": "64a49b79-a86a-4858-efe9-4996ce2c47b6"
      },
      "execution_count": 6,
      "outputs": [
        {
          "output_type": "stream",
          "name": "stdout",
          "text": [
            "  staf_pencatat  pencatat_senja\n",
            "0         Andra           False\n",
            "1         Andra           False\n",
            "2        Antara           False\n",
            "3        Antara           False\n",
            "4         Senja            True\n",
            "5        Sendja            True\n"
          ]
        }
      ]
    },
    {
      "cell_type": "markdown",
      "source": [
        "### Praktikum 2"
      ],
      "metadata": {
        "id": "pl076IbqpiGk"
      }
    },
    {
      "cell_type": "code",
      "source": [
        "#Import library yang dibutuhkan\n",
        "import pandas as pd\n",
        "\n",
        "#Baca file dqlabregex.tsv\n",
        "dqlabregex = pd.read_csv(\"https://storage.googleapis.com/dqlab-dataset/dqlabregex.tsv\", sep = '\\t')\n",
        "\n",
        "#Buat kolom baru char_nonnumerik untuk mengetahui jumlah_member non numerik\n",
        "dqlabregex['char_nonnumerik'] = dqlabregex['jumlah_member'].str.contains('[^0-9]')\n",
        "\n",
        "#Tampilkan hasilnya\n",
        "print(dqlabregex[['jumlah_member','char_nonnumerik']])"
      ],
      "metadata": {
        "colab": {
          "base_uri": "https://localhost:8080/"
        },
        "id": "gD1f0f2gpRPK",
        "outputId": "c9eb5f5e-20e7-4dae-c1d1-c93e578e14bf"
      },
      "execution_count": 7,
      "outputs": [
        {
          "output_type": "stream",
          "name": "stdout",
          "text": [
            "  jumlah_member  char_nonnumerik\n",
            "0           311            False\n",
            "1           1I2             True\n",
            "2           5S0             True\n",
            "3           670            False\n",
            "4           81O             True\n",
            "5           1O2             True\n"
          ]
        }
      ]
    },
    {
      "cell_type": "markdown",
      "source": [
        "## Syntax Replace"
      ],
      "metadata": {
        "id": "KRz3gwjvraS9"
      }
    },
    {
      "cell_type": "markdown",
      "source": [
        "### Tantangan Kedua Sunyi"
      ],
      "metadata": {
        "id": "cdMWhb-wr34j"
      }
    },
    {
      "cell_type": "code",
      "source": [
        "#Import library yang dibutuhkan\n",
        "import pandas as pd\n",
        "\n",
        "#Baca file dqlabregex.tsv\n",
        "dqlabregex = pd.read_csv(\"https://storage.googleapis.com/dqlab-dataset/dqlabregex.tsv\", sep = '\\t')\n",
        "\n",
        "#Ubah kata Sendja, dsb menjadi Senja pada kolom staf_pencatat\n",
        "dqlabregex['staf_pencatat'] = dqlabregex['staf_pencatat'].str.replace('Sen.?ja', 'Senja')\n",
        "\n",
        "#Tampilkan hasilnya\n",
        "print(dqlabregex['staf_pencatat'])"
      ],
      "metadata": {
        "colab": {
          "base_uri": "https://localhost:8080/"
        },
        "id": "NOcdClwRrdQV",
        "outputId": "73224884-3465-4632-e441-2c2af729e09f"
      },
      "execution_count": 8,
      "outputs": [
        {
          "output_type": "stream",
          "name": "stdout",
          "text": [
            "0     Andra\n",
            "1     Andra\n",
            "2    Antara\n",
            "3    Antara\n",
            "4     Senja\n",
            "5     Senja\n",
            "Name: staf_pencatat, dtype: object\n"
          ]
        },
        {
          "output_type": "stream",
          "name": "stderr",
          "text": [
            "<ipython-input-8-d089f30de434>:8: FutureWarning: The default value of regex will change from True to False in a future version.\n",
            "  dqlabregex['staf_pencatat'] = dqlabregex['staf_pencatat'].str.replace('Sen.?ja', 'Senja')\n"
          ]
        }
      ]
    },
    {
      "cell_type": "markdown",
      "source": [
        "### Tantangan Ketiga Sunyi"
      ],
      "metadata": {
        "id": "SjHekQkMsZYc"
      }
    },
    {
      "cell_type": "code",
      "source": [
        "#Import library yang dibutuhkan\n",
        "import pandas as pd\n",
        "\n",
        "#Baca file dqlabregex.tsv\n",
        "dqlabregex = pd.read_csv(\"https://storage.googleapis.com/dqlab-dataset/dqlabregex.tsv\", sep = '\\t')\n",
        "\n",
        "#Ubah karakter pada kolom jumlah_member sesuai ketentuan\n",
        "mapchange = {'O':'0','I':'1','S':'5'}\n",
        "\n",
        "dqlabregex['jumlah_member_clean'] = dqlabregex['jumlah_member']\n",
        "\n",
        "for ubah, pengubah in mapchange.items():\n",
        "\tdqlabregex['jumlah_member_clean'] = dqlabregex['jumlah_member_clean'].str.replace(ubah,pengubah, case = False)\n",
        "\n",
        "#Tampilkan hasilnya\n",
        "print(dqlabregex[['jumlah_member','jumlah_member_clean']])"
      ],
      "metadata": {
        "colab": {
          "base_uri": "https://localhost:8080/"
        },
        "id": "kYt42yIXscQK",
        "outputId": "42a22574-f75e-4515-9f43-0790161860ac"
      },
      "execution_count": 9,
      "outputs": [
        {
          "output_type": "stream",
          "name": "stdout",
          "text": [
            "  jumlah_member jumlah_member_clean\n",
            "0           311                 311\n",
            "1           1I2                 112\n",
            "2           5S0                 550\n",
            "3           670                 670\n",
            "4           81O                 810\n",
            "5           1O2                 102\n"
          ]
        }
      ]
    },
    {
      "cell_type": "markdown",
      "source": [
        "### Praktikum 3"
      ],
      "metadata": {
        "id": "EBVQGla3sed1"
      }
    },
    {
      "cell_type": "code",
      "source": [
        "#Import library yang dibutuhkan\n",
        "import pandas as pd\n",
        "\n",
        "#Baca file dqlabregex.tsv\n",
        "dqlabregex = pd.read_csv(\"https://storage.googleapis.com/dqlab-dataset/dqlabregex.tsv\", sep = '\\t')\n",
        "\n",
        "#Sintaks menghapus karakter non-numerik pada kolom jumlah_member\n",
        "dqlabregex['jumlah_member'] = dqlabregex['jumlah_member'].str.replace('[^0-9]', '')\n",
        "\n",
        "#Tampilkan hasilnya\n",
        "print(dqlabregex['jumlah_member'])"
      ],
      "metadata": {
        "colab": {
          "base_uri": "https://localhost:8080/"
        },
        "id": "iYCIY1N6vj4a",
        "outputId": "cd9227b3-0405-4fff-ccc9-be46019555bb"
      },
      "execution_count": 10,
      "outputs": [
        {
          "output_type": "stream",
          "name": "stdout",
          "text": [
            "0    311\n",
            "1     12\n",
            "2     50\n",
            "3    670\n",
            "4     81\n",
            "5     12\n",
            "Name: jumlah_member, dtype: object\n"
          ]
        },
        {
          "output_type": "stream",
          "name": "stderr",
          "text": [
            "<ipython-input-10-2bf7bef80205>:8: FutureWarning: The default value of regex will change from True to False in a future version.\n",
            "  dqlabregex['jumlah_member'] = dqlabregex['jumlah_member'].str.replace('[^0-9]', '')\n"
          ]
        }
      ]
    },
    {
      "cell_type": "markdown",
      "source": [
        "### Praktikum 4"
      ],
      "metadata": {
        "id": "c5c4ZoEWv7wV"
      }
    },
    {
      "cell_type": "code",
      "source": [
        "#Import library yang dibutuhkan\n",
        "import pandas as pd\n",
        "\n",
        "#Baca file dqlabregex.tsv\n",
        "dqlabregex = pd.read_csv(\"https://storage.googleapis.com/dqlab-dataset/dqlabregex.tsv\", sep = '\\t')\n",
        "\n",
        "#Sintaks merapikan format tanggal pada kolom tanggal_catat\n",
        "dqlabregex['tanggal_catat'] = dqlabregex['tanggal_catat'].str.replace('([0-9]{2})-([0-9]{2})-([0-9]{4})','\\\\2/\\\\1/\\\\3')\n",
        "\n",
        "#Tampilkan hasilnya\n",
        "print(dqlabregex['tanggal_catat'])"
      ],
      "metadata": {
        "colab": {
          "base_uri": "https://localhost:8080/"
        },
        "id": "v8XvBWtkwBbx",
        "outputId": "f8e05c71-681d-45ed-f234-cae76467eb26"
      },
      "execution_count": 11,
      "outputs": [
        {
          "output_type": "stream",
          "name": "stdout",
          "text": [
            "0    05/01/2020\n",
            "1    06/30/2020\n",
            "2    05/02/2020\n",
            "3    06/28/2020\n",
            "4    05/10/2020\n",
            "5    06/28/2020\n",
            "Name: tanggal_catat, dtype: object\n"
          ]
        },
        {
          "output_type": "stream",
          "name": "stderr",
          "text": [
            "<ipython-input-11-3d49a85e42f7>:8: FutureWarning: The default value of regex will change from True to False in a future version.\n",
            "  dqlabregex['tanggal_catat'] = dqlabregex['tanggal_catat'].str.replace('([0-9]{2})-([0-9]{2})-([0-9]{4})','\\\\2/\\\\1/\\\\3')\n"
          ]
        }
      ]
    },
    {
      "cell_type": "markdown",
      "source": [
        "## Mini Project"
      ],
      "metadata": {
        "id": "ZEvg-W0_wM1f"
      }
    },
    {
      "cell_type": "code",
      "source": [
        "#Import library yang dibutuhkan\n",
        "import pandas as pd\n",
        "\n",
        "#Baca file dqlabregex.tsv\n",
        "dqlabregex = pd.read_csv(\"https://storage.googleapis.com/dqlab-dataset/dqlabregex.tsv\", sep = '\\t')\n",
        "print(\"Tabel A:\")\n",
        "print(dqlabregex)\n",
        "\n",
        "#Ubah karakter pada kolom jumlah_member sesuai ketentuan\n",
        "mapchange = {'([0-9]{2})-([0-9]{2})-([0-9]{4})': '\\\\3-\\\\2-\\\\1', '([0-9]{2})/([0-9]{2})/([0-9]{4})' : '\\\\3-\\\\1-\\\\2'}\n",
        "for ubah, pengubah in mapchange.items():\n",
        "   dqlabregex['tanggal_catat'] = dqlabregex['tanggal_catat'].str.replace(ubah, pengubah)\n",
        "\n",
        "#Ubah menjadi tipedata datetime pada kolom tanggal_catat\n",
        "dqlabregex['tanggal_catat'] = pd.to_datetime(dqlabregex['tanggal_catat'])\n",
        "\n",
        "#Hapus karakter non numerik pada kolom jumlah_member dan ubah tipedatanya menjadi integer\n",
        "dqlabregex['jumlah_member'] = dqlabregex['jumlah_member'].str.replace('[^0-9]','')\n",
        "dqlabregex['jumlah_member'] = dqlabregex['jumlah_member'].astype('int')\n",
        "\n",
        "#Ubah kata Sendja ataupun padanannya menjadi satu kata 'Senja' pada kolom staf_pencatat\n",
        "dqlabregex['staf_pencatat'] = dqlabregex['staf_pencatat'].str.replace('Sen.?ja', 'Senja')\n",
        "\n",
        "#Tampilkan hasilnya\n",
        "print(\"\\nTabel B:\")\n",
        "print(dqlabregex)"
      ],
      "metadata": {
        "colab": {
          "base_uri": "https://localhost:8080/"
        },
        "id": "GqcuLNFuwNiy",
        "outputId": "0c4583db-dbcd-42a5-e94f-6542f89991ba"
      },
      "execution_count": 12,
      "outputs": [
        {
          "output_type": "stream",
          "name": "stdout",
          "text": [
            "Tabel A:\n",
            "   no_pencatatan tanggal_catat      kota jumlah_member staf_pencatat\n",
            "0              1    01-05-2020   Jakarta           311         Andra\n",
            "1              2    30-06-2020   Jakarta           1I2         Andra\n",
            "2              3    05/02/2020   Bandung           5S0        Antara\n",
            "3              4    06/28/2020   Bandung           670        Antara\n",
            "4              5    05/10/2020  Semarang           81O         Senja\n",
            "5              6    06/28/2020  Semarang           1O2        Sendja\n",
            "\n",
            "Tabel B:\n",
            "   no_pencatatan tanggal_catat      kota  jumlah_member staf_pencatat\n",
            "0              1    2020-05-01   Jakarta            311         Andra\n",
            "1              2    2020-06-30   Jakarta             12         Andra\n",
            "2              3    2020-05-02   Bandung             50        Antara\n",
            "3              4    2020-06-28   Bandung            670        Antara\n",
            "4              5    2020-05-10  Semarang             81         Senja\n",
            "5              6    2020-06-28  Semarang             12         Senja\n"
          ]
        },
        {
          "output_type": "stream",
          "name": "stderr",
          "text": [
            "<ipython-input-12-b47b9b08bb35>:12: FutureWarning: The default value of regex will change from True to False in a future version.\n",
            "  dqlabregex['tanggal_catat'] = dqlabregex['tanggal_catat'].str.replace(ubah, pengubah)\n",
            "<ipython-input-12-b47b9b08bb35>:18: FutureWarning: The default value of regex will change from True to False in a future version.\n",
            "  dqlabregex['jumlah_member'] = dqlabregex['jumlah_member'].str.replace('[^0-9]','')\n",
            "<ipython-input-12-b47b9b08bb35>:22: FutureWarning: The default value of regex will change from True to False in a future version.\n",
            "  dqlabregex['staf_pencatat'] = dqlabregex['staf_pencatat'].str.replace('Sen.?ja', 'Senja')\n"
          ]
        }
      ]
    }
  ]
}